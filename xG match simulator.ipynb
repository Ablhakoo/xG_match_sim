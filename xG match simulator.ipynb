{
 "cells": [
  {
   "cell_type": "markdown",
   "id": "c4a7c089",
   "metadata": {
    "pycharm": {
     "name": "#%% md\n"
    }
   },
   "source": [
    "<h2> Import all libraries"
   ]
  },
  {
   "cell_type": "code",
   "execution_count": 96,
   "id": "b4281cbd",
   "metadata": {
    "pycharm": {
     "name": "#%%\n"
    }
   },
   "outputs": [],
   "source": [
    "import re\n",
    "import json\n",
    "import requests\n",
    "import pandas as pd\n",
    "import warnings\n",
    "from sklearn.preprocessing import StandardScaler\n",
    "from sklearn.tree import DecisionTreeRegressor\n",
    "from sklearn.linear_model import LinearRegression\n",
    "from sklearn.model_selection import train_test_split\n",
    "from sklearn.metrics import r2_score,mean_squared_error,make_scorer\n",
    "from xgboost import XGBRegressor\n",
    "from sklearn.ensemble import RandomForestRegressor\n",
    "from sklearn.model_selection import cross_val_score\n",
    "import numpy as np\n",
    "from sklearn.model_selection import GridSearchCV, KFold\n",
    "import pickle\n"
   ]
  },
  {
   "cell_type": "markdown",
   "id": "62ce0c18",
   "metadata": {
    "pycharm": {
     "name": "#%% md\n"
    }
   },
   "source": [
    "<h3> Data collection"
   ]
  },
  {
   "cell_type": "code",
   "execution_count": 34,
   "id": "35a7aa36",
   "metadata": {
    "pycharm": {
     "name": "#%%\n"
    }
   },
   "outputs": [],
   "source": [
    "warnings.filterwarnings('ignore')\n",
    "\n",
    "seasons = [2014,2015,2016,2017,2018,2019,2020,2021,2022]\n",
    "competitions = ['EPL','La_liga','Serie_A','Bundesliga','Ligue_1','RFPL']\n",
    "\n",
    "all_data = []\n",
    "for season in seasons:\n",
    "    for comp in competitions:\n",
    "        url = f\"https://understat.com/league/{comp}/{season}\"\n",
    "        html_doc = requests.get(url).text\n",
    "\n",
    "        data = re.search(r\"datesData\\s*=\\s*JSON\\.parse\\('(.*?)'\\)\", html_doc).group(1)\n",
    "        data = re.sub(r'\\\\x([\\dA-F]{2})', lambda g: chr(int(g.group(1), 16)), data)\n",
    "        data = json.loads(data)\n",
    "\n",
    "        for d in data:\n",
    "            all_data.append({\n",
    "                'season': season,\n",
    "                'competition': comp,\n",
    "                'date': d['datetime'][:10], # first ten letters\n",
    "                'home_team': d['h']['title'],\n",
    "                'away_team': d['a']['title'],\n",
    "                'home_goals': d[\"goals\"][\"h\"],\n",
    "                'away_goals': d[\"goals\"][\"a\"],\n",
    "                'home_xG':d['xG']['h'],\n",
    "                'away_xG': d['xG']['a'],\n",
    "                'forecast': list(d.get('forecast', {}).values())\n",
    "            })\n",
    "\n",
    "df = pd.DataFrame(all_data)\n",
    "# Split the forecast list into separate columns\n",
    "df[['home_win_prob', 'draw_prob', 'away_win_prob']] = df['forecast'].apply(lambda x: pd.Series(x))\n",
    "\n",
    "# Drop the original forecast column\n",
    "df = df.drop('forecast', axis=1)\n",
    "\n",
    "# Drop the games that haven't been played\n",
    "df = df.dropna(how='any', subset=None)\n",
    "\n",
    "df.to_csv('xg_model.csv',index=False)"
   ]
  },
  {
   "cell_type": "code",
   "execution_count": 64,
   "id": "655190a7",
   "metadata": {
    "pycharm": {
     "name": "#%%\n"
    }
   },
   "outputs": [],
   "source": [
    "df = pd.read_csv('xg_model.csv')"
   ]
  },
  {
   "cell_type": "code",
   "execution_count": 65,
   "id": "656de801",
   "metadata": {
    "pycharm": {
     "name": "#%%\n"
    }
   },
   "outputs": [
    {
     "data": {
      "text/plain": [
       "(17892, 12)"
      ]
     },
     "execution_count": 65,
     "metadata": {},
     "output_type": "execute_result"
    }
   ],
   "source": [
    "df.shape"
   ]
  },
  {
   "cell_type": "code",
   "execution_count": 66,
   "id": "5f729141",
   "metadata": {
    "pycharm": {
     "name": "#%%\n"
    }
   },
   "outputs": [
    {
     "name": "stdout",
     "output_type": "stream",
     "text": [
      "<class 'pandas.core.frame.DataFrame'>\n",
      "RangeIndex: 17892 entries, 0 to 17891\n",
      "Data columns (total 12 columns):\n",
      " #   Column         Non-Null Count  Dtype  \n",
      "---  ------         --------------  -----  \n",
      " 0   season         17892 non-null  int64  \n",
      " 1   competition    17892 non-null  object \n",
      " 2   date           17892 non-null  object \n",
      " 3   home_team      17892 non-null  object \n",
      " 4   away_team      17892 non-null  object \n",
      " 5   home_goals     17892 non-null  int64  \n",
      " 6   away_goals     17892 non-null  int64  \n",
      " 7   home_xG        17892 non-null  float64\n",
      " 8   away_xG        17892 non-null  float64\n",
      " 9   home_win_prob  17892 non-null  float64\n",
      " 10  draw_prob      17892 non-null  float64\n",
      " 11  away_win_prob  17892 non-null  float64\n",
      "dtypes: float64(5), int64(3), object(4)\n",
      "memory usage: 1.6+ MB\n"
     ]
    }
   ],
   "source": [
    "df.info()"
   ]
  },
  {
   "cell_type": "code",
   "execution_count": 67,
   "id": "c4291853",
   "metadata": {
    "pycharm": {
     "name": "#%%\n"
    }
   },
   "outputs": [],
   "source": [
    "df = df[['home_xG', 'away_xG','home_win_prob', 'draw_prob', 'away_win_prob']]\n",
    "df[['home_win_prob', 'draw_prob', 'away_win_prob']] = df[['home_win_prob', 'draw_prob', 'away_win_prob']].astype(float)"
   ]
  },
  {
   "cell_type": "code",
   "execution_count": 68,
   "id": "5604f370",
   "metadata": {
    "pycharm": {
     "name": "#%%\n"
    }
   },
   "outputs": [
    {
     "name": "stdout",
     "output_type": "stream",
     "text": [
      "<class 'pandas.core.frame.DataFrame'>\n",
      "RangeIndex: 17892 entries, 0 to 17891\n",
      "Data columns (total 5 columns):\n",
      " #   Column         Non-Null Count  Dtype  \n",
      "---  ------         --------------  -----  \n",
      " 0   home_xG        17892 non-null  float64\n",
      " 1   away_xG        17892 non-null  float64\n",
      " 2   home_win_prob  17892 non-null  float64\n",
      " 3   draw_prob      17892 non-null  float64\n",
      " 4   away_win_prob  17892 non-null  float64\n",
      "dtypes: float64(5)\n",
      "memory usage: 699.0 KB\n"
     ]
    }
   ],
   "source": [
    "df.info()"
   ]
  },
  {
   "cell_type": "markdown",
   "id": "b0d1d9d3",
   "metadata": {
    "pycharm": {
     "name": "#%% md\n"
    }
   },
   "source": [
    "<h3> Scale the features - I didnt use this approach after examining the predicted match results"
   ]
  },
  {
   "cell_type": "code",
   "execution_count": 7,
   "id": "baeccbf2",
   "metadata": {
    "pycharm": {
     "name": "#%%\n"
    }
   },
   "outputs": [],
   "source": [
    "# Define the features to scale\n",
    "features_to_scale = ['home_xG', 'away_xG']\n",
    "\n",
    "# Create a StandardScaler object\n",
    "scaler = StandardScaler()\n",
    "\n",
    "# Fit the scaler on the features and transform the data\n",
    "scaled_features = scaler.fit_transform(df[features_to_scale])\n",
    "\n",
    "# Replace the original features with the scaled features in the DataFrame\n",
    "df[features_to_scale] = scaled_features"
   ]
  },
  {
   "cell_type": "markdown",
   "id": "d5144280",
   "metadata": {
    "pycharm": {
     "name": "#%% md\n"
    }
   },
   "source": [
    "Split the data into 60 percent train,20% test and 20% validation "
   ]
  },
  {
   "cell_type": "code",
   "execution_count": 69,
   "id": "e90b5f2e",
   "metadata": {
    "pycharm": {
     "name": "#%%\n"
    }
   },
   "outputs": [],
   "source": [
    "# Shuffle the indices of the data\n",
    "indices = np.random.permutation(df.shape[0])\n",
    "\n",
    "# Split the data into train, test, and validation sets\n",
    "train_indices, test_indices, val_indices = np.split(indices, [int(0.6 * len(indices)), int(0.8 * len(indices))])\n",
    "\n",
    "train_data = df.iloc[train_indices]\n",
    "test_data = df.iloc[test_indices]\n",
    "val_data = df.iloc[val_indices]\n"
   ]
  },
  {
   "cell_type": "code",
   "execution_count": 53,
   "id": "c2591cac",
   "metadata": {
    "pycharm": {
     "name": "#%%\n"
    }
   },
   "outputs": [
    {
     "name": "stdout",
     "output_type": "stream",
     "text": [
      "The number of rows in the training set is 10735\n",
      "The number of rows in the test set is 3578\n",
      "The number of rows in the validation set is 3579\n"
     ]
    }
   ],
   "source": [
    "print(f\"The number of rows in the training set is\",len(train_data))\n",
    "print(f\"The number of rows in the test set is\",len(test_data))\n",
    "print(f\"The number of rows in the validation set is\",len(val_data))"
   ]
  },
  {
   "cell_type": "markdown",
   "id": "1f5b4059",
   "metadata": {
    "pycharm": {
     "name": "#%% md\n"
    }
   },
   "source": [
    "<h2> Models "
   ]
  },
  {
   "cell_type": "code",
   "execution_count": 9,
   "id": "b93a858f",
   "metadata": {
    "pycharm": {
     "name": "#%%\n"
    }
   },
   "outputs": [
    {
     "name": "stdout",
     "output_type": "stream",
     "text": [
      "Training Set R^2 score: 0.751901\n",
      "Training Set Mean Squared Error: 0.010352\n",
      "Training Set Root Mean Squared Error: 0.099365\n",
      "Test Set R^2 score: 0.745097\n",
      "Test Set Mean Squared Error: 0.010852\n",
      "Test Set Root Mean Squared Error: 0.101762\n"
     ]
    }
   ],
   "source": [
    "# Select the features and target\n",
    "\n",
    "X_train = train_data[['home_xG', 'away_xG']]\n",
    "y_train = train_data[['home_win_prob', 'draw_prob', 'away_win_prob']]\n",
    "\n",
    "X_test = test_data[['home_xG', 'away_xG']]\n",
    "y_test = test_data[['home_win_prob', 'draw_prob', 'away_win_prob']]\n",
    "\n",
    "\n",
    "# Create a decision tree regressor\n",
    "dt_regressor = DecisionTreeRegressor(max_depth = 3,min_samples_split=5, min_samples_leaf=3, max_features='sqrt',\n",
    "                                     random_state=42)\n",
    "\n",
    "# Fit the regressor to the training data\n",
    "dt_regressor.fit(X_train, y_train)\n",
    "\n",
    "# Evaluate the model on the test data\n",
    "y_pred = dt_regressor.predict(X_test)\n",
    "dt_r2 = r2_score(y_test, y_pred)\n",
    "\n",
    "\n",
    "# Evaluate the model on the training data\n",
    "y_pred_train = dt_regressor.predict(X_train)\n",
    "dt_r2_train = r2_score(y_train, y_pred_train)\n",
    "mse_train = mean_squared_error(y_train, y_pred_train)\n",
    "rmse_train = mean_squared_error(y_train, y_pred_train, squared=False)\n",
    "\n",
    "# Calculate MSE and RMSE on test data\n",
    "mse = mean_squared_error(y_test, y_pred)\n",
    "rmse = mean_squared_error(y_test, y_pred, squared=False)\n",
    "\n",
    "\n",
    "# Print the results\n",
    "print(f\"Training Set R^2 score: {dt_r2_train:.6f}\")\n",
    "print(f\"Training Set Mean Squared Error: {mse_train:.6f}\")\n",
    "print(f\"Training Set Root Mean Squared Error: {rmse_train:.6f}\")\n",
    "\n",
    "# Print the results\n",
    "print(f\"Test Set R^2 score: {dt_r2:.6f}\")\n",
    "print(f\"Test Set Mean Squared Error: {mse:.6f}\")\n",
    "print(f\"Test Set Root Mean Squared Error: {rmse:.6f}\")"
   ]
  },
  {
   "cell_type": "code",
   "execution_count": 10,
   "id": "4d3ebac4",
   "metadata": {
    "pycharm": {
     "name": "#%%\n"
    }
   },
   "outputs": [
    {
     "name": "stdout",
     "output_type": "stream",
     "text": [
      "Training Set R^2 score: 0.761854\n",
      "Training Set Mean Squared Error: 0.006738\n",
      "Training Set Root Mean Squared Error: 0.082071\n",
      "Test Set R^2 score: 0.762517\n",
      "Test Set Mean Squared Error: 0.007080\n",
      "Test Set Root Mean Squared Error: 0.084090\n"
     ]
    }
   ],
   "source": [
    "# Select the features and target\n",
    "X_train = train_data[['home_xG', 'away_xG']]\n",
    "y_train = train_data[['home_win_prob', 'draw_prob', 'away_win_prob']]\n",
    "\n",
    "X_test = test_data[['home_xG', 'away_xG']]\n",
    "y_test = test_data[['home_win_prob', 'draw_prob', 'away_win_prob']]\n",
    "\n",
    "\n",
    "# Train the model\n",
    "model = LinearRegression()\n",
    "model.fit(X_train, y_train)\n",
    "\n",
    "# Evaluate the model on the training data\n",
    "y_pred_train = model.predict(X_train)\n",
    "lin_r2_train = r2_score(y_train, y_pred_train)\n",
    "\n",
    "\n",
    "mse_train = mean_squared_error(y_train, y_pred_train)\n",
    "rmse_train = mean_squared_error(y_train, y_pred_train, squared=False)\n",
    "\n",
    "# Calculate MSE and RMSE on test data\n",
    "y_pred = model.predict(X_test)\n",
    "lin_r2_test = r2_score(y_test, y_pred)\n",
    "mse = mean_squared_error(y_test, y_pred)\n",
    "rmse = mean_squared_error(y_test, y_pred, squared=False)\n",
    "\n",
    "\n",
    "# Print the results\n",
    "print(f\"Training Set R^2 score: {lin_r2_train:.6f}\")\n",
    "print(f\"Training Set Mean Squared Error: {mse_train:.6f}\")\n",
    "print(f\"Training Set Root Mean Squared Error: {rmse_train:.6f}\")\n",
    "\n",
    "# Print the results\n",
    "print(f\"Test Set R^2 score: {lin_r2_test:.6f}\")\n",
    "print(f\"Test Set Mean Squared Error: {mse:.6f}\")\n",
    "print(f\"Test Set Root Mean Squared Error: {rmse:.6f}\")"
   ]
  },
  {
   "cell_type": "code",
   "execution_count": 11,
   "id": "11cf4c81",
   "metadata": {
    "pycharm": {
     "name": "#%%\n"
    }
   },
   "outputs": [
    {
     "name": "stdout",
     "output_type": "stream",
     "text": [
      "Training Set R^2 score: 0.883586\n",
      "Training Set Mean Squared Error: 0.003461\n",
      "Training Set Root Mean Squared Error: 0.058769\n",
      "Test Set R^2 score: 0.880350\n",
      "Test Set Mean Squared Error: 0.003688\n",
      "Test Set Root Mean Squared Error: 0.060645\n"
     ]
    }
   ],
   "source": [
    "# Select the features and target\n",
    "X_train = train_data[['home_xG', 'away_xG']]\n",
    "y_train = train_data[['home_win_prob', 'draw_prob', 'away_win_prob']]\n",
    "\n",
    "X_test = test_data[['home_xG', 'away_xG']]\n",
    "y_test = test_data[['home_win_prob', 'draw_prob', 'away_win_prob']]\n",
    "\n",
    "# Train an XGBoost Regressor model\n",
    "xgb_model = XGBRegressor(n_estimators=20, learning_rate=0.1, max_depth=3, random_state=42)\n",
    "xgb_model.fit(X_train, y_train)\n",
    "\n",
    "# Make predictions using the XGBoost Regressor model\n",
    "xgb_preds = xgb_model.predict(X_test)\n",
    "\n",
    "# Evaluate the model on the training data\n",
    "y_pred_train = xgb_model.predict(X_train)\n",
    "xgb_r2_train = r2_score(y_train, y_pred_train)\n",
    "mse_train = mean_squared_error(y_train, y_pred_train)\n",
    "rmse_train = mean_squared_error(y_train, y_pred_train, squared=False)\n",
    "\n",
    "# Calculate MSE and RMSE on test data\n",
    "xgb_r2_test = r2_score(y_test, xgb_preds)\n",
    "mse = mean_squared_error(y_test, xgb_preds)\n",
    "rmse = mean_squared_error(y_test, xgb_preds, squared=False)\n",
    "\n",
    "\n",
    "# Print the results\n",
    "print(f\"Training Set R^2 score: {xgb_r2_train:.6f}\")\n",
    "print(f\"Training Set Mean Squared Error: {mse_train:.6f}\")\n",
    "print(f\"Training Set Root Mean Squared Error: {rmse_train:.6f}\")\n",
    "\n",
    "# Print the results\n",
    "print(f\"Test Set R^2 score: {xgb_r2_test:.6f}\")\n",
    "print(f\"Test Set Mean Squared Error: {mse:.6f}\")\n",
    "print(f\"Test Set Root Mean Squared Error: {rmse:.6f}\")"
   ]
  },
  {
   "cell_type": "code",
   "execution_count": 12,
   "id": "98487085",
   "metadata": {
    "pycharm": {
     "name": "#%%\n"
    }
   },
   "outputs": [
    {
     "name": "stdout",
     "output_type": "stream",
     "text": [
      "Training Set R^2 score: 0.845388\n",
      "Training Set Mean Squared Error: 0.006748\n",
      "Training Set Root Mean Squared Error: 0.079826\n",
      "Test Set R^2 score: 0.839633\n",
      "Test Set Mean Squared Error: 0.007155\n",
      "Test Set Root Mean Squared Error: 0.082205\n"
     ]
    }
   ],
   "source": [
    "# Select the features and target\n",
    "X_train = train_data[['home_xG', 'away_xG']]\n",
    "y_train = train_data[['home_win_prob', 'draw_prob', 'away_win_prob']]\n",
    "\n",
    "X_test = test_data[['home_xG', 'away_xG']]\n",
    "y_test = test_data[['home_win_prob', 'draw_prob', 'away_win_prob']]\n",
    "\n",
    "# Train the model\n",
    "model = RandomForestRegressor(max_depth = 3, min_samples_split=5, min_samples_leaf=3,n_estimators=100, random_state=42)\n",
    "model.fit(X_train, y_train)\n",
    "\n",
    "\n",
    "# Evaluate the model on the training data\n",
    "y_pred_train = model.predict(X_train)\n",
    "rfr_r2_train = r2_score(y_train, y_pred_train)\n",
    "mse_train = mean_squared_error(y_train, y_pred_train)\n",
    "rmse_train = mean_squared_error(y_train, y_pred_train, squared=False)\n",
    "\n",
    "# Calculate MSE and RMSE on test data\n",
    "y_pred = model.predict(X_test)\n",
    "rfr_r2_test = r2_score(y_test, y_pred)\n",
    "mse = mean_squared_error(y_test, y_pred)\n",
    "rmse = mean_squared_error(y_test, y_pred, squared=False)\n",
    "\n",
    "\n",
    "# Print the results\n",
    "print(f\"Training Set R^2 score: {rfr_r2_train:.6f}\")\n",
    "print(f\"Training Set Mean Squared Error: {mse_train:.6f}\")\n",
    "print(f\"Training Set Root Mean Squared Error: {rmse_train:.6f}\")\n",
    "\n",
    "# Print the results\n",
    "print(f\"Test Set R^2 score: {rfr_r2_test:.6f}\")\n",
    "print(f\"Test Set Mean Squared Error: {mse:.6f}\")\n",
    "print(f\"Test Set Root Mean Squared Error: {rmse:.6f}\")"
   ]
  },
  {
   "cell_type": "markdown",
   "id": "67a361a6",
   "metadata": {
    "pycharm": {
     "name": "#%% md\n"
    }
   },
   "source": [
    "<h3> Hyperparameter tune and cross validate the best model XGBOOST REGRESSOR\n",
    "    "
   ]
  },
  {
   "cell_type": "code",
   "execution_count": 14,
   "id": "22934049",
   "metadata": {
    "pycharm": {
     "name": "#%%\n"
    }
   },
   "outputs": [
    {
     "name": "stdout",
     "output_type": "stream",
     "text": [
      "Best Hyperparameters:  {'colsample_bytree': 0.5, 'gamma': 0.5, 'learning_rate': 0.01, 'max_depth': 3, 'min_child_weight': 1, 'n_estimators': 10, 'subsample': 1.0}\n",
      "Best Score:  0.07739373519798927\n",
      "Mean Squared Error: 0.077410\n",
      "Root Mean Squared Error: 0.277749\n",
      "CPU times: total: 1d 13h 56min 11s\n",
      "Wall time: 6h 32min 7s\n"
     ]
    }
   ],
   "source": [
    "%%time\n",
    "\n",
    "# Define the XGBoost regressor\n",
    "xgb_reg = XGBRegressor(random_state=42)\n",
    "\n",
    "# Define the hyperparameters to search over\n",
    "param_grid = {\n",
    "    'learning_rate': [0.01, 0.1, 0.5],\n",
    "    'n_estimators': [10, 50, 100],\n",
    "    'max_depth': [3, 5, 7],\n",
    "    'min_child_weight': [1, 3, 5],\n",
    "    'gamma': [0.0, 0.1, 0.5],\n",
    "    'subsample': [0.5, 0.75, 1.0],\n",
    "    'colsample_bytree': [0.5, 0.75, 1.0],\n",
    "}\n",
    "\n",
    "# Define the scoring metric\n",
    "scoring = make_scorer(mean_squared_error)\n",
    "\n",
    "# Define the cross-validation method\n",
    "cv = KFold(n_splits=10, shuffle=True, random_state=42)\n",
    "\n",
    "# Perform grid search to find the best hyperparameters\n",
    "grid_search = GridSearchCV(xgb_reg, param_grid=param_grid, scoring=scoring, cv=cv)\n",
    "grid_search.fit(X_train, y_train)\n",
    "\n",
    "# Print the best hyperparameters and corresponding score\n",
    "print(\"Best Hyperparameters: \", grid_search.best_params_)\n",
    "print(\"Best Score: \", grid_search.best_score_)\n",
    "\n",
    "# Evaluate the best model on the test set\n",
    "best_model = grid_search.best_estimator_\n",
    "y_pred = best_model.predict(X_test)\n",
    "mse = mean_squared_error(y_test, y_pred)\n",
    "rmse = mean_squared_error(y_test, y_pred, squared=False)\n",
    "print(f\"Mean Squared Error: {mse:.6f}\")\n",
    "print(f\"Root Mean Squared Error: {rmse:.6f}\")"
   ]
  },
  {
   "cell_type": "markdown",
   "id": "b2ca5861",
   "metadata": {
    "pycharm": {
     "name": "#%% md\n"
    }
   },
   "source": [
    "<h3> Run the best model"
   ]
  },
  {
   "cell_type": "code",
   "execution_count": 92,
   "id": "270c582a",
   "metadata": {
    "pycharm": {
     "name": "#%%\n"
    }
   },
   "outputs": [
    {
     "name": "stdout",
     "output_type": "stream",
     "text": [
      "Training Set R^2 score: 0.975290\n",
      "Training Set Mean Squared Error: 0.000592\n",
      "Training Set Root Mean Squared Error: 0.024251\n",
      "Test Set R^2 score: 0.972365\n",
      "Test Set Mean Squared Error: 0.000671\n",
      "Test Set Root Mean Squared Error: 0.025811\n"
     ]
    }
   ],
   "source": [
    "# Select the features and target\n",
    "X_train = train_data[['home_xG', 'away_xG']]\n",
    "y_train = train_data[['home_win_prob', 'draw_prob', 'away_win_prob']]\n",
    "\n",
    "X_test = test_data[['home_xG', 'away_xG']]\n",
    "y_test = test_data[['home_win_prob', 'draw_prob', 'away_win_prob']]\n",
    "\n",
    "# Train an XGBoost Regressor model\n",
    "xgb_model = XGBRegressor(n_estimators=100, learning_rate=0.1, max_depth=10,colsample_bytree=1,\n",
    "                         min_child_weight=1,subsample=1,gamma=0.5, random_state=42)\n",
    "xgb_model.fit(X_train, y_train)\n",
    "\n",
    "# Make predictions using the XGBoost Regressor model\n",
    "xgb_preds = xgb_model.predict(X_test)\n",
    "\n",
    "# Evaluate the model on the training data\n",
    "y_pred_train = xgb_model.predict(X_train)\n",
    "xgb_r2_train = r2_score(y_train, y_pred_train)\n",
    "mse_train = mean_squared_error(y_train, y_pred_train)\n",
    "rmse_train = mean_squared_error(y_train, y_pred_train, squared=False)\n",
    "\n",
    "# Calculate MSE and RMSE on test data\n",
    "xgb_r2_test = r2_score(y_test, xgb_preds)\n",
    "mse = mean_squared_error(y_test, xgb_preds)\n",
    "rmse = mean_squared_error(y_test, xgb_preds, squared=False)\n",
    "\n",
    "\n",
    "# Print the results\n",
    "print(f\"Training Set R^2 score: {xgb_r2_train:.6f}\")\n",
    "print(f\"Training Set Mean Squared Error: {mse_train:.6f}\")\n",
    "print(f\"Training Set Root Mean Squared Error: {rmse_train:.6f}\")\n",
    "\n",
    "# Print the results\n",
    "print(f\"Test Set R^2 score: {xgb_r2_test:.6f}\")\n",
    "print(f\"Test Set Mean Squared Error: {mse:.6f}\")\n",
    "print(f\"Test Set Root Mean Squared Error: {rmse:.6f}\")"
   ]
  },
  {
   "cell_type": "markdown",
   "id": "6f73fcd6",
   "metadata": {
    "pycharm": {
     "name": "#%% md\n"
    }
   },
   "source": [
    "<h2> Predict on the validation set"
   ]
  },
  {
   "cell_type": "code",
   "execution_count": 93,
   "id": "2f704492",
   "metadata": {
    "pycharm": {
     "name": "#%%\n"
    }
   },
   "outputs": [
    {
     "name": "stdout",
     "output_type": "stream",
     "text": [
      "Validation Set R^2 score: 0.973300\n",
      "Validation Set Mean Squared Error: 0.000670\n",
      "Validation Set Root Mean Squared Error: 0.025797\n"
     ]
    }
   ],
   "source": [
    "# Select the features and target for the validation set\n",
    "X_val = val_data[['home_xG', 'away_xG']]\n",
    "y_val = val_data[['home_win_prob', 'draw_prob', 'away_win_prob']]\n",
    "\n",
    "# Make predictions on the validation set using the trained XGBoost Regressor model\n",
    "xgb_preds_val = xgb_model.predict(X_val)\n",
    "\n",
    "# Evaluate the model on the validation data\n",
    "xgb_r2_val = r2_score(y_val, xgb_preds_val)\n",
    "mse_val = mean_squared_error(y_val, xgb_preds_val)\n",
    "rmse_val = mean_squared_error(y_val, xgb_preds_val, squared=False)\n",
    "\n",
    "# Print the results\n",
    "print(f\"Validation Set R^2 score: {xgb_r2_val:.6f}\")\n",
    "print(f\"Validation Set Mean Squared Error: {mse_val:.6f}\")\n",
    "print(f\"Validation Set Root Mean Squared Error: {rmse_val:.6f}\")"
   ]
  },
  {
   "cell_type": "code",
   "execution_count": 94,
   "id": "e0aa09ff",
   "metadata": {
    "pycharm": {
     "name": "#%%\n"
    }
   },
   "outputs": [
    {
     "data": {
      "text/plain": [
       "1.0"
      ]
     },
     "execution_count": 94,
     "metadata": {},
     "output_type": "execute_result"
    }
   ],
   "source": [
    "# correct probabilities as per understats model for below Arsenal v Palace is 0.438,0.2882,0.2738\n",
    "\n",
    "\n",
    "0.438+0.2882+0.2738\n"
   ]
  },
  {
   "cell_type": "code",
   "execution_count": 95,
   "id": "c01d43fa",
   "metadata": {
    "pycharm": {
     "name": "#%%\n"
    }
   },
   "outputs": [
    {
     "name": "stdout",
     "output_type": "stream",
     "text": [
      "Home win probability: 0.4620\n",
      "Draw probability: 0.2780\n",
      "Away win probability: 0.2600\n",
      "Total probability: 1.0000\n"
     ]
    }
   ],
   "source": [
    "# Create a new DataFrame with the manual inputs\n",
    "new_data = pd.DataFrame({\n",
    "    'home_xG': [1.53568], # Arsenal\n",
    "    'away_xG': [1.19194] # Palace\n",
    "})\n",
    "\n",
    "# Use the model to predict the probabilities\n",
    "probs = xgb_model.predict(new_data)\n",
    "\n",
    "# Normalize the predicted probabilities\n",
    "probs_norm = probs / probs.sum()\n",
    "\n",
    "# Print the normalized probabilities\n",
    "print(f\"Home win probability: {probs_norm[0][0]:.4f}\")\n",
    "print(f\"Draw probability: {probs_norm[0][1]:.4f}\")\n",
    "print(f\"Away win probability: {probs_norm[0][2]:.4f}\")\n",
    "print(f\"Total probability: {probs_norm.sum():.4f}\")"
   ]
  },
  {
   "cell_type": "markdown",
   "id": "a16b608a",
   "metadata": {
    "pycharm": {
     "name": "#%% md\n"
    }
   },
   "source": [
    "Save the trained model "
   ]
  },
  {
   "cell_type": "code",
   "execution_count": 97,
   "id": "3ba127cc",
   "metadata": {
    "pycharm": {
     "name": "#%%\n"
    }
   },
   "outputs": [],
   "source": [
    "# Save the trained model to a file\n",
    "with open('xgb_model.pkl', 'wb') as f:\n",
    "    pickle.dump(xgb_model, f)"
   ]
  },
  {
   "cell_type": "code",
   "execution_count": null,
   "id": "e131dba2",
   "metadata": {
    "pycharm": {
     "name": "#%%\n"
    }
   },
   "outputs": [],
   "source": [
    "# Load the saved model from a file\n",
    "loaded_model = joblib.load('xgb_model.joblib')\n",
    "# or\n",
    "# with open('xgb_model.pkl', 'rb') as f:\n",
    "#     loaded_model = pickle.load(f)\n",
    "\n",
    "# Use the loaded model for prediction\n",
    "y_pred = loaded_model.predict(X_test)"
   ]
  }
 ],
 "metadata": {
  "kernelspec": {
   "display_name": "Python 3 (ipykernel)",
   "language": "python",
   "name": "python3"
  },
  "language_info": {
   "codemirror_mode": {
    "name": "ipython",
    "version": 3
   },
   "file_extension": ".py",
   "mimetype": "text/x-python",
   "name": "python",
   "nbconvert_exporter": "python",
   "pygments_lexer": "ipython3",
   "version": "3.9.12"
  }
 },
 "nbformat": 4,
 "nbformat_minor": 5
}